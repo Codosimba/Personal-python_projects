{
 "cells": [
  {
   "cell_type": "markdown",
   "id": "24996703-78e2-4a98-9560-6ecacda5bb32",
   "metadata": {},
   "source": [
    "### Quotes Twiiter bot"
   ]
  },
  {
   "cell_type": "code",
   "execution_count": 99,
   "id": "7410035d-6b09-4901-abf3-9b3e68985f19",
   "metadata": {
    "tags": []
   },
   "outputs": [],
   "source": [
    "import requests as req\n",
    "import tweepy\n",
    "import json\n",
    "import schedule\n",
    "import time"
   ]
  },
  {
   "cell_type": "code",
   "execution_count": 100,
   "id": "1fc4cd82-1bec-4c35-988b-afa5432af735",
   "metadata": {
    "tags": []
   },
   "outputs": [],
   "source": [
    "API_KEY_QUOTE = 'uOWafE0h54klcLCXuCex9w==wQxOeN60lqfHgj6y'"
   ]
  },
  {
   "cell_type": "code",
   "execution_count": 18,
   "id": "37dd7535-d202-4af3-9433-42b866663eb6",
   "metadata": {
    "tags": []
   },
   "outputs": [],
   "source": [
    "# category = 'happiness'\n",
    "# limit = 1\n",
    "# api_url = 'https://api.api-ninjas.com/v1/quotes?category={}&limit={}'.format(category,limit)\n",
    "# response = req.get(api_url, headers={'X-Api-Key': API_KEY_QUOTE})\n",
    "# if response.status_code == req.codes.ok:\n",
    "#     quote_list = json.loads(response.text)\n",
    "# else:\n",
    "#     print(\"Error:\", response.status_code, response.text)\n",
    "\n",
    "\n",
    "# quote_list = json.loads(response.text)\n",
    "# quote_dict = quote_list[0]\n",
    "\n",
    "# quote = quote_dict['quote']\n",
    "# author = quote_dict['author']"
   ]
  },
  {
   "cell_type": "code",
   "execution_count": 215,
   "id": "fb312cbc-e1f0-4788-aa6c-ad3eb9ec74f1",
   "metadata": {
    "tags": []
   },
   "outputs": [
    {
     "name": "stdout",
     "output_type": "stream",
     "text": [
      "\u001b[96m We must have courage to bet on our ideas, to take the calculated risk, and to act. Everyday living requires courage if life is to be effective and bring happiness.\n"
     ]
    }
   ],
   "source": [
    "# print('\\033[96m {}'.format(quote))"
   ]
  },
  {
   "cell_type": "markdown",
   "id": "e2176fdc-79d5-441d-8462-bd2d297578c2",
   "metadata": {},
   "source": [
    "###  Quote Extraction"
   ]
  },
  {
   "cell_type": "code",
   "execution_count": 2,
   "id": "fd1c1d9d-052b-42d8-9c53-d4a92c1ce3dc",
   "metadata": {
    "tags": []
   },
   "outputs": [],
   "source": [
    "\n",
    "### Extracting the quote\n",
    "def get_quote():\n",
    "    category = 'happiness' \n",
    "    limit = 1\n",
    "    api_url = f'https://api.api-ninjas.com/v1/quotes?category={category}&limit={limit}'\n",
    "    response = req.get(api_url, headers={'X-Api-Key': API_KEY_QUOTE})\n",
    "    if response.status_code == req.codes.ok:  ### Check for status code i.e it should be less than 400\n",
    "        quote_list = json.loads(response.text)\n",
    "        quote_dict = quote_list[0]\n",
    "        quote = quote_dict['quote']  ### getting quote\n",
    "        author = quote_dict['author'] ## getting author\n",
    "        return f'\"{quote}\" - {author}'\n",
    "    else:\n",
    "        return 'Error retrieving quote'"
   ]
  },
  {
   "cell_type": "markdown",
   "id": "14fca10b-698c-4373-9e5c-a3fd35f1987f",
   "metadata": {
    "tags": []
   },
   "source": [
    "#### Twitter API Access"
   ]
  },
  {
   "cell_type": "code",
   "execution_count": 102,
   "id": "900b0b67-2a75-428d-b275-6badd34f9b18",
   "metadata": {
    "tags": []
   },
   "outputs": [],
   "source": [
    "ACCESS_TOKEN = '2933039780-pwfLb0bWoqOVGx5y6bABTZiJ53kHHFhweqN1MrN'\n",
    "ACCESS_TOKEN_SECRET = '7Qv9aIe81beuoDGthYxzxzxrmXIGhVxQOGDD97dlPSbBI'"
   ]
  },
  {
   "cell_type": "code",
   "execution_count": 103,
   "id": "db3a5dbf-5939-4a77-9cac-20dfeaa3e6fc",
   "metadata": {
    "tags": []
   },
   "outputs": [],
   "source": [
    "TWITTER_API_KEY = 'TZfU9SdmMUYxa26R0CjlW2iNI'\n",
    "TWITTER_API_SECRET_KEY = 'Nfso1dZfuucJMvbb3XtgagXvMRgZqgQgkLeuN9YxStEkLRJU1T'\n",
    "TWITTER_BEARER_TOKEN = r'AAAAAAAAAAAAAAAAAAAAAKSQmwEAAAAAMmRsFRZfSz%2BmaZWiJz3BGAIu6As%3DOKul7EoZMuAFXSrIrhehhWLQD52mSdh4BWt3mwKyUVTlbeeUMU'\n",
    "\n",
    "\n"
   ]
  },
  {
   "cell_type": "code",
   "execution_count": 22,
   "id": "47d350ab-c297-4b28-9976-36392ab56c03",
   "metadata": {
    "tags": []
   },
   "outputs": [],
   "source": [
    "# client = twt.Client(TWITTER_BEARER_TOKEN,TWITTER_API_KEY,TWITTER_API_SECRET_KEY,ACCESS_TOKEN,ACCESS_TOKEN_SECRET)\n",
    "# auth = twt.OAuth1UserHandler(TWITTER_API_KEY,TWITTER_API_SECRET_KEY,ACCESS_TOKEN,ACCESS_TOKEN_SECRET)"
   ]
  },
  {
   "cell_type": "code",
   "execution_count": 23,
   "id": "f2c65562-fb44-4171-8937-ad0f8cc604c6",
   "metadata": {
    "tags": []
   },
   "outputs": [],
   "source": [
    "# api = twt.API(auth)"
   ]
  },
  {
   "cell_type": "code",
   "execution_count": 35,
   "id": "e5594084-b588-4643-8980-850d7ea1d0a3",
   "metadata": {
    "tags": []
   },
   "outputs": [
    {
     "name": "stdout",
     "output_type": "stream",
     "text": [
      "Successful Authentication\n"
     ]
    }
   ],
   "source": [
    "# try:\n",
    "#     api.verify_credentials()\n",
    "#     print('Successful Authentication')\n",
    "# except:\n",
    "#     print('Failed authentication')"
   ]
  },
  {
   "cell_type": "markdown",
   "id": "ab7fd0a5-7d3b-486f-8773-04e0e89259a9",
   "metadata": {},
   "source": [
    "### Defining the tweet"
   ]
  },
  {
   "cell_type": "code",
   "execution_count": 104,
   "id": "52c2883b-3e53-4cd5-a3c6-fe16a35a196e",
   "metadata": {
    "tags": []
   },
   "outputs": [],
   "source": [
    "def post_tweet(tweet):\n",
    "    auth = tweepy.OAuth1UserHandler(TWITTER_API_KEY,TWITTER_API_SECRET_KEY,ACCESS_TOKEN,ACCESS_TOKEN_SECRET)\n",
    "    api = tweepy.API(auth)\n",
    "    try:\n",
    "        api.verify_credentials()\n",
    "        api.update_status(tweet)\n",
    "        print('Tweet posted')\n",
    "    except twt.TweepError as error:\n",
    "        print('Error posting tweet:', error)"
   ]
  },
  {
   "cell_type": "code",
   "execution_count": 75,
   "id": "09520037-6c10-48d5-a8ab-f0f5f88e67c9",
   "metadata": {
    "tags": []
   },
   "outputs": [],
   "source": [
    "# def post_tweet(tweet_text, *hashtags) -> str:\n",
    "#     # Format the tweet text with the hashtags\n",
    "#     tweet = f\"{tweet_text} {' '.join(['#' + tag for tag in hashtags])}\"\n",
    "#     return tweet"
   ]
  },
  {
   "cell_type": "code",
   "execution_count": 76,
   "id": "5365e64e-cee3-4594-ad28-d841ad56d495",
   "metadata": {
    "tags": []
   },
   "outputs": [],
   "source": [
    "# formatted_tweet = post_tweet(quote,'goodday','morning','quoteoftheday','bot','pythonproject')"
   ]
  },
  {
   "cell_type": "markdown",
   "id": "1c952795-098f-4eff-93ad-e9e2ee3d3c3b",
   "metadata": {},
   "source": [
    "### Scheduling the tweet"
   ]
  },
  {
   "cell_type": "code",
   "execution_count": 3,
   "id": "090dce84-4196-486d-bf2c-4a64a8db81e2",
   "metadata": {
    "tags": []
   },
   "outputs": [
    {
     "ename": "NameError",
     "evalue": "name 'schedule' is not defined",
     "output_type": "error",
     "traceback": [
      "\u001b[0;31m---------------------------------------------------------------------------\u001b[0m",
      "\u001b[0;31mNameError\u001b[0m                                 Traceback (most recent call last)",
      "Cell \u001b[0;32mIn[3], line 2\u001b[0m\n\u001b[1;32m      1\u001b[0m \u001b[38;5;66;03m# Schedule the tweet to be posted daily at a specific time\u001b[39;00m\n\u001b[0;32m----> 2\u001b[0m everyday \u001b[38;5;241m=\u001b[39m\u001b[43mschedule\u001b[49m\u001b[38;5;241m.\u001b[39mevery()\u001b[38;5;241m.\u001b[39mday\u001b[38;5;241m.\u001b[39mat(\u001b[38;5;124m'\u001b[39m\u001b[38;5;124m19:23\u001b[39m\u001b[38;5;124m'\u001b[39m)\u001b[38;5;241m.\u001b[39mdo(post_tweet, get_quote())\n\u001b[1;32m      4\u001b[0m \u001b[38;5;66;03m# Keep running the schedule\u001b[39;00m\n\u001b[1;32m      5\u001b[0m \u001b[38;5;28;01mwhile\u001b[39;00m \u001b[38;5;28;01mTrue\u001b[39;00m:\n",
      "\u001b[0;31mNameError\u001b[0m: name 'schedule' is not defined"
     ]
    }
   ],
   "source": [
    "# Schedule the tweet to be posted daily at a specific time\n",
    "everyday =schedule.every().day.at('19:23').do(post_tweet, get_quote())\n",
    "\n",
    "# Keep running the schedule\n",
    "while True:\n",
    "    schedule.run_pending()\n",
    "    time.sleep(1)"
   ]
  },
  {
   "cell_type": "code",
   "execution_count": null,
   "id": "d71c72b1-592a-4a0f-ae2f-4c5e61ca7f97",
   "metadata": {},
   "outputs": [],
   "source": []
  },
  {
   "cell_type": "code",
   "execution_count": null,
   "id": "b97fa958-4d6e-4edd-89e8-0ff42ab470a1",
   "metadata": {},
   "outputs": [],
   "source": []
  },
  {
   "cell_type": "code",
   "execution_count": null,
   "id": "c8d935ec-f7cc-4a46-a0e4-d00275454ed3",
   "metadata": {},
   "outputs": [],
   "source": []
  },
  {
   "cell_type": "code",
   "execution_count": null,
   "id": "37478b27-eb50-4573-b18f-0508fada27af",
   "metadata": {},
   "outputs": [],
   "source": []
  },
  {
   "cell_type": "code",
   "execution_count": null,
   "id": "8ac7139f-103a-4ea9-8845-d0b560179489",
   "metadata": {},
   "outputs": [],
   "source": []
  },
  {
   "cell_type": "code",
   "execution_count": null,
   "id": "5863f958-f4eb-43be-aba2-726239f623e8",
   "metadata": {},
   "outputs": [],
   "source": []
  },
  {
   "cell_type": "code",
   "execution_count": null,
   "id": "6d6912d6-92a4-4c1e-b6ca-55c9a4b44583",
   "metadata": {},
   "outputs": [],
   "source": []
  }
 ],
 "metadata": {
  "kernelspec": {
   "display_name": "Python 3 (ipykernel)",
   "language": "python",
   "name": "python3"
  },
  "language_info": {
   "codemirror_mode": {
    "name": "ipython",
    "version": 3
   },
   "file_extension": ".py",
   "mimetype": "text/x-python",
   "name": "python",
   "nbconvert_exporter": "python",
   "pygments_lexer": "ipython3",
   "version": "3.11.3"
  }
 },
 "nbformat": 4,
 "nbformat_minor": 5
}
